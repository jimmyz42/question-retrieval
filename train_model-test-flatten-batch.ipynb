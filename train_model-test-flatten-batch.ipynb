{
 "cells": [
  {
   "cell_type": "code",
   "execution_count": 1,
   "metadata": {},
   "outputs": [],
   "source": [
    "import read_input\n",
    "from read_input import QuestionDataset\n",
    "\n",
    "import torch\n",
    "from torch.autograd import Variable\n",
    "import torch.utils\n",
    "import torch.utils.data\n",
    "from tqdm import tqdm\n",
    "from torch import nn\n",
    "import numpy as np"
   ]
  },
  {
   "cell_type": "code",
   "execution_count": 9,
   "metadata": {},
   "outputs": [],
   "source": [
    "class LSTM(nn.Module):\n",
    "    # todo: deal with padding\n",
    "    # todo: fix parameters, structure, etc\n",
    "    def __init__(self, input_dim, hidden_dim, num_layers, truncate_length):\n",
    "        super(LSTM, self).__init__()\n",
    "\n",
    "        self.input_dim = input_dim\n",
    "        self.num_layers = num_layers\n",
    "        self.hidden_dim = hidden_dim\n",
    "        self.truncate_length= truncate_length\n",
    "        # The LSTM takes word embeddings as inputs, and outputs hidden states\n",
    "        # with dimensionality hidden_dim.\n",
    "        self.lstm = nn.LSTM(input_dim, hidden_dim, num_layers, batch_first=True)\n",
    "        #self.hidden = self.init_hidden()\n",
    "\n",
    "#     def init_hidden(self):\n",
    "#         # Before we've done anything, we dont have any hidden state.\n",
    "#         # Refer to the Pytorch documentation to see exactly\n",
    "#         # why they have this dimensionality.\n",
    "#         # The axes semantics are (num_layers, minibatch_size, hidden_dim)\n",
    "#         return (Variable(torch.zeros(self.num_layers, self.batch_size, self.hidden_dim)),\n",
    "#                 Variable(torch.zeros(self.num_layers, self.batch_size, self.hidden_dim)))\n",
    "\n",
    "    def forward(self, sentence_inp):\n",
    "        # sentence_inp is batch_size x truncate_length x num_features\n",
    "        batch_size = sentence_inp.size()[0]\n",
    "        #self.hidden = self.init_hidden() # do we need this?\n",
    "        # lstm expects batch_size x truncate_length x num_features\n",
    "        lstm_out, self.hidden = self.lstm(sentence_inp)\n",
    "        encoding = self.hidden[0].view(batch_size, self.hidden_dim)\n",
    "        return encoding"
   ]
  },
  {
   "cell_type": "code",
   "execution_count": 21,
   "metadata": {},
   "outputs": [],
   "source": [
    "def run_epoch(dataset, is_training, model, optimizer, batch_size):\n",
    "    data_loader = torch.utils.data.DataLoader(dataset, batch_size=batch_size,\n",
    "                                              shuffle=True, drop_last=True)\n",
    "    losses = []\n",
    "    if is_training:\n",
    "        model.train()\n",
    "    else:\n",
    "        model.eval()\n",
    "\n",
    "    for batch in tqdm(data_loader):\n",
    "        q_body = Variable(batch[\"q_body\"]) # batch_size x truncate_length x 200]\n",
    "        p_body = Variable(batch[\"p_body\"])\n",
    "        neg_bodies = Variable(batch[\"neg_bodies\"]) # batch_size x num_negs x truncate_length x 200\n",
    "        q_title = Variable(batch[\"q_title\"])\n",
    "        p_title = Variable(batch[\"p_title\"])\n",
    "        neg_titles = Variable(batch[\"neg_titles\"])\n",
    "        num_negs = neg_titles.size()[1]\n",
    "        if is_training:\n",
    "            optimizer.zero_grad()\n",
    "        q_body_enc, q_title_enc = model(q_body), model(q_title) # batch_size  x enc_length\n",
    "        p_body_enc, p_title_enc = model(p_body), model(p_title)\n",
    "        neg_body_encs = model(neg_bodies.view(batch_size*num_negs, TRUNCATE_LENGTH, 200)) # (batch_size x num_negs) x enc_length\n",
    "        neg_title_encs = model(neg_titles.view(batch_size*num_negs, TRUNCATE_LENGTH, 200))\n",
    "        q_enc = q_title_enc + q_body_enc / 2.0\n",
    "        p_enc = p_title_enc + p_body_enc / 2.0\n",
    "        neg_encs = neg_title_encs + neg_body_encs / 2.0\n",
    "        neg_encs = neg_encs.view(batch_size, num_negs, -1) # batch_size x num_negs x enc_length\n",
    "        candidate_encs = torch.cat((p_enc.view(batch_size, 1, -1), neg_encs), dim=1) #batch_size x (num_negs + 1) x enc_length\n",
    "        query_encs = q_enc.view(batch_size, 1, -1).repeat(1, (num_negs+1), 1) # batch_size x (num_negs + 1) x enc_length\n",
    "        cos = torch.nn.CosineSimilarity(dim=2, eps=1e-08)(candidate_encs, query_encs) # batch_size x (num_negs + 1)\n",
    "        target = Variable(torch.zeros(batch_size).long(), requires_grad=True)\n",
    "        loss = torch.nn.MultiMarginLoss()(cos, target)\n",
    "\n",
    "        if is_training:\n",
    "            loss.backward(retain_graph=True)\n",
    "            optimizer.step()\n",
    "        losses.append(loss.cpu().data[0])\n",
    "    avg_loss = np.mean(losses)\n",
    "    return avg_loss"
   ]
  },
  {
   "cell_type": "code",
   "execution_count": 5,
   "metadata": {},
   "outputs": [],
   "source": [
    "def train_model(train_data, model, batch_size=200, num_epochs=50, lr=1.0, weight_decay=0):\n",
    "    print(\"start train_model\")\n",
    "    #optimizer = torch.optim.Adam(model.parameters(), lr=lr, weight_decay=weight_decay)\n",
    "    optimizer = torch.optim.Adam(model.parameters())\n",
    "    for epoch in range(1, num_epochs + 1):\n",
    "        print(\"epoch\", epoch)\n",
    "        train_loss = run_epoch(train_data, True, model, optimizer, batch_size)\n",
    "        print(\"\\ntrain_loss\", train_loss)"
   ]
  },
  {
   "cell_type": "code",
   "execution_count": 6,
   "metadata": {},
   "outputs": [],
   "source": [
    "TEXT_TOKENIZED_FILE = 'askubuntu/text_tokenized.txt'\n",
    "TRAIN_FILE = 'askubuntu/train_random.txt'\n",
    "DEV_FILE = 'askubuntu/dev.txt'\n",
    "TEST_FILE = 'askubuntu/test.txt'\n",
    "\n",
    "TRUNCATE_LENGTH = 150"
   ]
  },
  {
   "cell_type": "code",
   "execution_count": 7,
   "metadata": {},
   "outputs": [],
   "source": [
    "train_dataset = QuestionDataset(TEXT_TOKENIZED_FILE, TRAIN_FILE, truncate=TRUNCATE_LENGTH, test_subset=9)"
   ]
  },
  {
   "cell_type": "code",
   "execution_count": 10,
   "metadata": {},
   "outputs": [],
   "source": [
    "BATCH_SIZE = 3\n",
    "NUM_EPOCHS = 2\n",
    "model = LSTM(200, 15, 1, TRUNCATE_LENGTH)"
   ]
  },
  {
   "cell_type": "code",
   "execution_count": 22,
   "metadata": {},
   "outputs": [
    {
     "name": "stderr",
     "output_type": "stream",
     "text": [
      "\r",
      "  0%|          | 0/3 [00:00<?, ?it/s]"
     ]
    },
    {
     "name": "stdout",
     "output_type": "stream",
     "text": [
      "start train_model\n",
      "('epoch', 1)\n"
     ]
    },
    {
     "name": "stderr",
     "output_type": "stream",
     "text": [
      "100%|██████████| 3/3 [00:08<00:00,  2.76s/it]\n",
      "  0%|          | 0/3 [00:00<?, ?it/s]"
     ]
    },
    {
     "name": "stdout",
     "output_type": "stream",
     "text": [
      "('\\ntrain_loss', 0.9536626935005188)\n",
      "('epoch', 2)\n"
     ]
    },
    {
     "name": "stderr",
     "output_type": "stream",
     "text": [
      "100%|██████████| 3/3 [00:05<00:00,  1.97s/it]"
     ]
    },
    {
     "name": "stdout",
     "output_type": "stream",
     "text": [
      "('\\ntrain_loss', 0.95186622937520349)\n"
     ]
    },
    {
     "name": "stderr",
     "output_type": "stream",
     "text": [
      "\n"
     ]
    }
   ],
   "source": [
    "train_model(train_dataset, model, num_epochs=NUM_EPOCHS, batch_size=BATCH_SIZE)"
   ]
  },
  {
   "cell_type": "code",
   "execution_count": null,
   "metadata": {},
   "outputs": [],
   "source": []
  }
 ],
 "metadata": {
  "kernelspec": {
   "display_name": "Python 2",
   "language": "python",
   "name": "python2"
  },
  "language_info": {
   "codemirror_mode": {
    "name": "ipython",
    "version": 2
   },
   "file_extension": ".py",
   "mimetype": "text/x-python",
   "name": "python",
   "nbconvert_exporter": "python",
   "pygments_lexer": "ipython2",
   "version": "2.7.14"
  }
 },
 "nbformat": 4,
 "nbformat_minor": 2
}
