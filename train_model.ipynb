{
 "cells": [
  {
   "cell_type": "code",
   "execution_count": 1,
   "metadata": {},
   "outputs": [],
   "source": [
    "import read_input\n",
    "from read_input import TrainQuestionDataset, EvalQuestionDataset\n",
    "from prettytable import PrettyTable\n",
    "\n",
    "from evaluation import Evaluation\n",
    "import torch\n",
    "from torch.autograd import Variable\n",
    "import torch.utils\n",
    "import torch.utils.data\n",
    "from tqdm import tqdm\n",
    "from torch import nn\n",
    "import numpy as np"
   ]
  },
  {
   "cell_type": "code",
   "execution_count": 2,
   "metadata": {},
   "outputs": [],
   "source": [
    "class LSTM(nn.Module):\n",
    "    # todo: deal with padding\n",
    "    # todo: fix parameters, structure, etc\n",
    "    def __init__(self, input_dim, hidden_dim, num_layers, truncate_length):\n",
    "        super(LSTM, self).__init__()\n",
    "\n",
    "        self.input_dim = input_dim\n",
    "        self.num_layers = num_layers\n",
    "        self.hidden_dim = hidden_dim\n",
    "        self.truncate_length= truncate_length\n",
    "        # The LSTM takes word embeddings as inputs, and outputs hidden states\n",
    "        # with dimensionality hidden_dim.\n",
    "        self.lstm = nn.LSTM(input_dim, hidden_dim, num_layers, batch_first=True)\n",
    "        #self.hidden = self.init_hidden()\n",
    "\n",
    "#     def init_hidden(self):\n",
    "#         # Before we've done anything, we dont have any hidden state.\n",
    "#         # Refer to the Pytorch documentation to see exactly\n",
    "#         # why they have this dimensionality.\n",
    "#         # The axes semantics are (num_layers, minibatch_size, hidden_dim)\n",
    "#         return (Variable(torch.zeros(self.num_layers, self.batch_size, self.hidden_dim)),\n",
    "#                 Variable(torch.zeros(self.num_layers, self.batch_size, self.hidden_dim)))\n",
    "\n",
    "    def forward(self, sentence_inp):\n",
    "        # sentence_inp is batch_size x truncate_length x num_features\n",
    "        batch_size = sentence_inp.size()[0]\n",
    "        #self.hidden = self.init_hidden() # do we need this?\n",
    "        # lstm expects batch_size x truncate_length x num_features\n",
    "        lstm_out, self.hidden = self.lstm(sentence_inp)\n",
    "        encoding = self.hidden[0].view(batch_size, self.hidden_dim)\n",
    "        return encoding"
   ]
  },
  {
   "cell_type": "code",
   "execution_count": 3,
   "metadata": {},
   "outputs": [],
   "source": [
    "# batch_size = BATCH_SIZE\n",
    "# data_loader = torch.utils.data.DataLoader(dev_dataset, batch_size=batch_size,\n",
    "#                                               shuffle=True, drop_last=True)\n",
    "# for batch in tqdm(data_loader):\n",
    "#     q_body = Variable(batch[\"q_body\"], requires_grad=True) # batch_size x truncate_length x 200]\n",
    "#     cand_bodies = Variable(batch[\"candidate_bodies\"], requires_grad=True) # batch_size x num_cands x truncate_length x 200\n",
    "#     q_title = Variable(batch[\"q_title\"], requires_grad=True)\n",
    "#     cand_titles = Variable(batch[\"candidate_titles\"], requires_grad=True)\n",
    "#     num_cands = cand_titles.size()[1]\n",
    "#     q_body_enc, q_title_enc = model(q_body), model(q_title) # batch_size  x enc_length\n",
    "#     cand_body_encs = model(cand_bodies.view(batch_size*num_cands, TRUNCATE_LENGTH, 200)) # (batch_size x num_cands) x enc_length\n",
    "#     cand_title_encs = model(cand_titles.view(batch_size*num_cands, TRUNCATE_LENGTH, 200))\n",
    "#     q_enc = q_title_enc + q_body_enc / 2.0\n",
    "#     candidate_encs = cand_title_encs + cand_body_encs / 2.0\n",
    "#     candidate_encs = candidate_encs.view(batch_size, num_cands, -1) # batch_size x num_cands x enc_length\n",
    "#     query_encs = q_enc.view(batch_size, 1, -1).repeat(1, num_cands, 1) # batch_size x (num_cands) x enc_length\n",
    "#     cos = torch.nn.CosineSimilarity(dim=2, eps=1e-08)(candidate_encs, query_encs) # batch_size x (num_cands)\n",
    "#     break"
   ]
  },
  {
   "cell_type": "code",
   "execution_count": 13,
   "metadata": {},
   "outputs": [],
   "source": [
    "def evaluate(all_ranked_labels):\n",
    "    evaluator = Evaluation(all_ranked_labels)\n",
    "    MAP = evaluator.MAP()*100\n",
    "    MRR = evaluator.MRR()*100\n",
    "    P1 = evaluator.Precision(1)*100\n",
    "    P5 = evaluator.Precision(5)*100\n",
    "    return MAP, MRR, P1, P5"
   ]
  },
  {
   "cell_type": "code",
   "execution_count": 11,
   "metadata": {},
   "outputs": [],
   "source": [
    "def run_epoch(dataset, is_training, model, optimizer, batch_size):\n",
    "    data_loader = torch.utils.data.DataLoader(dataset, batch_size=batch_size,\n",
    "                                              shuffle=True, drop_last=True)\n",
    "    losses = []\n",
    "    all_ranked_labels = []\n",
    "    if is_training:\n",
    "        model.train()\n",
    "    else:\n",
    "        model.eval()\n",
    "\n",
    "    for batch in tqdm(data_loader):\n",
    "        q_body = Variable(batch[\"q_body\"], requires_grad=True) # batch_size x truncate_length x 200]\n",
    "        cand_bodies = Variable(batch[\"candidate_bodies\"], requires_grad=True) # batch_size x num_cands x truncate_length x 200\n",
    "        q_title = Variable(batch[\"q_title\"], requires_grad=True)\n",
    "        cand_titles = Variable(batch[\"candidate_titles\"], requires_grad=True)\n",
    "        num_cands = cand_titles.size()[1]\n",
    "        if is_training:\n",
    "            optimizer.zero_grad()\n",
    "        q_body_enc, q_title_enc = model(q_body), model(q_title) # batch_size  x enc_length\n",
    "        cand_body_encs = model(cand_bodies.view(batch_size*num_cands, TRUNCATE_LENGTH, 200)) # (batch_size x num_cands) x enc_length\n",
    "        cand_title_encs = model(cand_titles.view(batch_size*num_cands, TRUNCATE_LENGTH, 200))\n",
    "        q_enc = q_title_enc + q_body_enc / 2.0\n",
    "        candidate_encs = cand_title_encs + cand_body_encs / 2.0\n",
    "        candidate_encs = candidate_encs.view(batch_size, num_cands, -1) # batch_size x num_cands x enc_length\n",
    "        query_encs = q_enc.view(batch_size, 1, -1).repeat(1, num_cands, 1) # batch_size x (num_cands) x enc_length\n",
    "        cos = torch.nn.CosineSimilarity(dim=2, eps=1e-08)(candidate_encs, query_encs) # batch_size x (num_cands)\n",
    "        \n",
    "        if is_training:\n",
    "            target = Variable(torch.zeros(batch_size).long(), requires_grad=True)\n",
    "            loss = torch.nn.MultiMarginLoss()(cos, target)\n",
    "            loss.backward(retain_graph=True)\n",
    "            optimizer.step()\n",
    "            losses.append(loss.cpu().data[0])\n",
    "        else:\n",
    "            # do evaluation stuff\n",
    "            sorted_cos, ind = cos.sort()\n",
    "            labels = batch[\"labels\"]\n",
    "            for i in range(batch_size): \n",
    "                all_ranked_labels.append(labels[i][ind.data[i]])\n",
    "    if is_training:\n",
    "        avg_loss = np.mean(losses)\n",
    "        return avg_loss\n",
    "    else:\n",
    "        return evaluate(all_ranked_labels)\n",
    "    "
   ]
  },
  {
   "cell_type": "code",
   "execution_count": 14,
   "metadata": {},
   "outputs": [],
   "source": [
    "def train_model(train_data, dev_data, test_data, model, batch_size=200, num_epochs=50, lr=1.0, weight_decay=0):\n",
    "    print(\"start train_model\")\n",
    "    #optimizer = torch.optim.Adam(model.parameters(), lr=lr, weight_decay=weight_decay)\n",
    "    optimizer = torch.optim.Adam(model.parameters())\n",
    "    result_table = PrettyTable([\"Epoch\", \"train loss\", \"dev MAP\", \"dev MRR\", \"dev P@1\", \"dev P@5\"] +\n",
    "                                    [\"tst MAP\", \"tst MRR\", \"tst P@1\", \"tst P@5\"])\n",
    "    for epoch in range(1, num_epochs + 1):\n",
    "        print(\"epoch\", epoch)\n",
    "        train_loss = run_epoch(train_data, True, model, optimizer, batch_size)\n",
    "        dev_MAP, dev_MRR, dev_P1, dev_P5 = run_epoch(dev_data, False, model, optimizer, batch_size)\n",
    "        test_MAP, test_MRR, test_P1, test_P5 = run_epoch(test_data, False, model, optimizer, batch_size)\n",
    "        result_table.add_row(\n",
    "                            [ epoch ] +\n",
    "                            [ \"%.2f\" % x for x in [train_loss] + [ dev_MAP, dev_MRR, dev_P1, dev_P5 ] +\n",
    "                                        [ test_MAP, test_MRR, test_P1, test_P5 ] ])\n",
    "        print(\"{}\".format(result_table))\n"
   ]
  },
  {
   "cell_type": "code",
   "execution_count": 7,
   "metadata": {},
   "outputs": [],
   "source": [
    "TEXT_TOKENIZED_FILE = 'askubuntu/text_tokenized.txt'\n",
    "TRAIN_FILE = 'askubuntu/train_random.txt'\n",
    "DEV_FILE = 'askubuntu/dev.txt'\n",
    "TEST_FILE = 'askubuntu/test.txt'\n",
    "\n",
    "TRUNCATE_LENGTH = 150"
   ]
  },
  {
   "cell_type": "code",
   "execution_count": 8,
   "metadata": {},
   "outputs": [],
   "source": [
    "train_dataset = TrainQuestionDataset(TEXT_TOKENIZED_FILE, TRAIN_FILE, truncate=TRUNCATE_LENGTH, test_subset=9)\n",
    "dev_dataset = EvalQuestionDataset(train_dataset.id_to_question, DEV_FILE, truncate=TRUNCATE_LENGTH, test_subset=9)\n",
    "test_dataset = EvalQuestionDataset(train_dataset.id_to_question, TEST_FILE, truncate=TRUNCATE_LENGTH, test_subset=9)"
   ]
  },
  {
   "cell_type": "code",
   "execution_count": 9,
   "metadata": {},
   "outputs": [],
   "source": [
    "BATCH_SIZE = 3\n",
    "NUM_EPOCHS = 2\n",
    "model = LSTM(200, 15, 1, TRUNCATE_LENGTH)"
   ]
  },
  {
   "cell_type": "code",
   "execution_count": 15,
   "metadata": {},
   "outputs": [
    {
     "name": "stderr",
     "output_type": "stream",
     "text": [
      "\r",
      "  0%|          | 0/3 [00:00<?, ?it/s]"
     ]
    },
    {
     "name": "stdout",
     "output_type": "stream",
     "text": [
      "start train_model\n",
      "('epoch', 1) Training..."
     ]
    },
    {
     "name": "stderr",
     "output_type": "stream",
     "text": [
      "100%|██████████| 3/3 [00:08<00:00,  2.81s/it]\n",
      "  0%|          | 0/3 [00:00<?, ?it/s]"
     ]
    },
    {
     "name": "stdout",
     "output_type": "stream",
     "text": [
      " Dev..."
     ]
    },
    {
     "name": "stderr",
     "output_type": "stream",
     "text": [
      "100%|██████████| 3/3 [00:03<00:00,  1.09s/it]\n",
      "  0%|          | 0/3 [00:00<?, ?it/s]"
     ]
    },
    {
     "name": "stdout",
     "output_type": "stream",
     "text": [
      " Test...\n"
     ]
    },
    {
     "name": "stderr",
     "output_type": "stream",
     "text": [
      "100%|██████████| 3/3 [00:02<00:00,  1.01it/s]\n",
      "  0%|          | 0/3 [00:00<?, ?it/s]"
     ]
    },
    {
     "name": "stdout",
     "output_type": "stream",
     "text": [
      "+-------+------------+---------+---------+---------+---------+---------+---------+---------+---------+\n",
      "| Epoch | train loss | dev MAP | dev MRR | dev P@1 | dev P@5 | tst MAP | tst MRR | tst P@1 | tst P@5 |\n",
      "+-------+------------+---------+---------+---------+---------+---------+---------+---------+---------+\n",
      "|   1   |    0.95    |  51.28  |  59.63  |  44.44  |  40.00  |  34.43  |  37.59  |  22.22  |  24.44  |\n",
      "+-------+------------+---------+---------+---------+---------+---------+---------+---------+---------+\n",
      "('epoch', 2) Training..."
     ]
    },
    {
     "name": "stderr",
     "output_type": "stream",
     "text": [
      "100%|██████████| 3/3 [00:14<00:00,  4.74s/it]\n",
      "  0%|          | 0/3 [00:00<?, ?it/s]"
     ]
    },
    {
     "name": "stdout",
     "output_type": "stream",
     "text": [
      " Dev..."
     ]
    },
    {
     "name": "stderr",
     "output_type": "stream",
     "text": [
      "100%|██████████| 3/3 [00:03<00:00,  1.15s/it]\n",
      "  0%|          | 0/3 [00:00<?, ?it/s]"
     ]
    },
    {
     "name": "stdout",
     "output_type": "stream",
     "text": [
      " Test...\n"
     ]
    },
    {
     "name": "stderr",
     "output_type": "stream",
     "text": [
      "100%|██████████| 3/3 [00:06<00:00,  2.02s/it]"
     ]
    },
    {
     "name": "stdout",
     "output_type": "stream",
     "text": [
      "+-------+------------+---------+---------+---------+---------+---------+---------+---------+---------+\n",
      "| Epoch | train loss | dev MAP | dev MRR | dev P@1 | dev P@5 | tst MAP | tst MRR | tst P@1 | tst P@5 |\n",
      "+-------+------------+---------+---------+---------+---------+---------+---------+---------+---------+\n",
      "|   1   |    0.95    |  51.28  |  59.63  |  44.44  |  40.00  |  34.43  |  37.59  |  22.22  |  24.44  |\n",
      "|   2   |    0.95    |  64.62  |  69.81  |  55.56  |  55.56  |  31.29  |  29.98  |  11.11  |  22.22  |\n",
      "+-------+------------+---------+---------+---------+---------+---------+---------+---------+---------+\n"
     ]
    },
    {
     "name": "stderr",
     "output_type": "stream",
     "text": [
      "\n"
     ]
    }
   ],
   "source": [
    "train_model(train_dataset, dev_dataset, test_dataset, model, num_epochs=NUM_EPOCHS, batch_size=BATCH_SIZE)"
   ]
  },
  {
   "cell_type": "code",
   "execution_count": null,
   "metadata": {},
   "outputs": [],
   "source": []
  }
 ],
 "metadata": {
  "kernelspec": {
   "display_name": "Python 2",
   "language": "python",
   "name": "python2"
  },
  "language_info": {
   "codemirror_mode": {
    "name": "ipython",
    "version": 2
   },
   "file_extension": ".py",
   "mimetype": "text/x-python",
   "name": "python",
   "nbconvert_exporter": "python",
   "pygments_lexer": "ipython2",
   "version": "2.7.14"
  }
 },
 "nbformat": 4,
 "nbformat_minor": 2
}
