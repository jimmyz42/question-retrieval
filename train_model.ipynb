{
 "cells": [
  {
   "cell_type": "code",
   "execution_count": null,
   "metadata": {},
   "outputs": [],
   "source": [
    "import read_input\n",
    "from read_input import TrainQuestionDataset, EvalQuestionDataset\n",
    "from prettytable import PrettyTable\n",
    "\n",
    "from evaluation import Evaluation\n",
    "import torch\n",
    "from torch.autograd import Variable\n",
    "import torch.utils\n",
    "import torch.utils.data\n",
    "from tqdm import tqdm\n",
    "from torch import nn\n",
    "import numpy as np"
   ]
  },
  {
   "cell_type": "code",
   "execution_count": null,
   "metadata": {},
   "outputs": [],
   "source": [
    "class LSTM(nn.Module):\n",
    "    # todo: fix parameters, structure, etc\n",
    "    def __init__(self, input_dim, hidden_dim, num_layers, truncate_length):\n",
    "        super(LSTM, self).__init__()\n",
    "\n",
    "        self.input_dim = input_dim\n",
    "        self.num_layers = num_layers\n",
    "        self.hidden_dim = hidden_dim\n",
    "        self.truncate_length= truncate_length\n",
    "        # The LSTM takes word embeddings as inputs, and outputs hidden states\n",
    "        # with dimensionality hidden_dim.\n",
    "        self.lstm = nn.LSTM(input_dim, hidden_dim, num_layers, batch_first=True)\n",
    "        #self.hidden = self.init_hidden()\n",
    "\n",
    "    def init_hidden(self, batch_size):\n",
    "        # Before we've done anything, we dont have any hidden state.\n",
    "        # The axes semantics are (num_layers, minibatch_size, hidden_dim)\n",
    "        return (Variable(torch.zeros(self.num_layers, batch_size, self.hidden_dim)),\n",
    "                Variable(torch.zeros(self.num_layers, batch_size, self.hidden_dim)))\n",
    "\n",
    "    def forward(self, sentence_inp, mask):\n",
    "        # sentence_inp - batch_size x truncate_length x num_features\n",
    "        # mask - batch_size x truncate_length\n",
    "        batch_size = sentence_inp.size()[0]\n",
    "        self.hidden = self.init_hidden(batch_size)\n",
    "        # lstm expects batch_size x truncate_length x num_features because of batch_first=True\n",
    "        outputs, self.hidden = self.lstm(sentence_inp)\n",
    "        out_masked = torch.mul(outputs, mask.unsqueeze(2).expand_as(outputs))\n",
    "        out_masked_avg = torch.div(out_masked.sum(dim=1), \n",
    "                                   mask.sum(dim=1).unsqueeze(1).expand(batch_size, self.hidden_dim))\n",
    "        return out_masked_avg"
   ]
  },
  {
   "cell_type": "code",
   "execution_count": null,
   "metadata": {},
   "outputs": [],
   "source": [
    "class CNN(nn.Module):\n",
    "    def __init__(self, input_dim, hidden_dim, truncate_length):\n",
    "        super(CNN, self).__init__()\n",
    "\n",
    "        self.input_dim = input_dim\n",
    "        self.hidden_dim = hidden_dim\n",
    "        self.truncate_length= truncate_length\n",
    "\n",
    "        self.conv = nn.Conv1d(input_dim, hidden_dim, 3, padding=1)\n",
    "        self.tanh = nn.Tanh()\n",
    "        self.drop = nn.Dropout(p=0.2)\n",
    "\n",
    "    def forward(self, sentence_inp):\n",
    "        # sentence_inp is batch_size x truncate_length x num_features\n",
    "        x = self.conv(sentence_inp)\n",
    "        x = self.tanh(x)\n",
    "        x = self.drop(x)\n",
    "        # TODO do average pooling over hidden states\n",
    "        return x"
   ]
  },
  {
   "cell_type": "code",
   "execution_count": null,
   "metadata": {},
   "outputs": [],
   "source": [
    "# batch_size = BATCH_SIZE\n",
    "# data_loader = torch.utils.data.DataLoader(dev_dataset, batch_size=batch_size,\n",
    "#                                               shuffle=True, drop_last=True)\n",
    "# for batch in tqdm(data_loader):\n",
    "#     q_body = Variable(batch[\"q_body\"], requires_grad=True) # batch_size x truncate_length x 200]\n",
    "#     cand_bodies = Variable(batch[\"candidate_bodies\"], requires_grad=True) # batch_size x num_cands x truncate_length x 200\n",
    "#     q_title = Variable(batch[\"q_title\"], requires_grad=True)\n",
    "#     cand_titles = Variable(batch[\"candidate_titles\"], requires_grad=True)\n",
    "#     num_cands = cand_titles.size()[1]\n",
    "#     q_body_mask, q_title_mask = Variable(batch[\"q_body_mask\"]), Variable(batch[\"q_title_mask\"])\n",
    "#     cand_body_masks, cand_title_masks = Variable(batch[\"candidate_body_masks\"]), Variable(batch[\"candidate_title_masks\"])\n",
    "#     break"
   ]
  },
  {
   "cell_type": "code",
   "execution_count": null,
   "metadata": {},
   "outputs": [],
   "source": [
    "def evaluate(all_ranked_labels):\n",
    "    evaluator = Evaluation(all_ranked_labels)\n",
    "    MAP = evaluator.MAP()*100\n",
    "    MRR = evaluator.MRR()*100\n",
    "    P1 = evaluator.Precision(1)*100\n",
    "    P5 = evaluator.Precision(5)*100\n",
    "    return MAP, MRR, P1, P5"
   ]
  },
  {
   "cell_type": "code",
   "execution_count": null,
   "metadata": {},
   "outputs": [],
   "source": [
    "def run_epoch(dataset, is_training, model, optimizer, batch_size, margin):\n",
    "    data_loader = torch.utils.data.DataLoader(dataset, batch_size=batch_size,\n",
    "                                              shuffle=True, drop_last=True)\n",
    "    losses = []\n",
    "    all_ranked_labels = []\n",
    "    if is_training:\n",
    "        model.train()\n",
    "    else:\n",
    "        model.eval()\n",
    "\n",
    "    for batch in tqdm(data_loader):\n",
    "        q_body = Variable(batch[\"q_body\"], requires_grad=True) # batch_size x truncate_length x 200]\n",
    "        cand_bodies = Variable(batch[\"candidate_bodies\"], requires_grad=True) # batch_size x num_cands x truncate_length x 200\n",
    "        q_title = Variable(batch[\"q_title\"], requires_grad=True)\n",
    "        cand_titles = Variable(batch[\"candidate_titles\"], requires_grad=True)\n",
    "        q_body_mask = Variable(batch[\"q_body_mask\"], requires_grad=True) # batch_size x truncate_length\n",
    "        q_title_mask = Variable(batch[\"q_title_mask\"], requires_grad=True)\n",
    "        cand_body_masks = Variable(batch[\"candidate_body_masks\"], requires_grad=True) # batch_size x num_cands x truncate_length\n",
    "        cand_title_masks = Variable(batch[\"candidate_title_masks\"], requires_grad=True)\n",
    "        num_cands = cand_titles.size()[1]\n",
    "        if is_training:\n",
    "            optimizer.zero_grad()\n",
    "        q_body_enc, q_title_enc = model(q_body, q_body_mask), model(q_title, q_title_mask) # output is batch_size  x enc_length\n",
    "        cand_body_encs = model(cand_bodies.view(batch_size*num_cands, TRUNCATE_LENGTH, 200), # output is (batch_size x num_cands) x enc_length\n",
    "                               cand_body_masks.view(batch_size*num_cands, TRUNCATE_LENGTH)) \n",
    "        cand_title_encs = model(cand_titles.view(batch_size*num_cands, TRUNCATE_LENGTH, 200),\n",
    "                                cand_title_masks.view(batch_size*num_cands, TRUNCATE_LENGTH))\n",
    "        q_enc = q_title_enc + q_body_enc / 2.0\n",
    "        candidate_encs = cand_title_encs + cand_body_encs / 2.0\n",
    "        #domain_predictions = domain_classifier(q_enc, candidate_ends)\n",
    "        #loss(domain_predictions, target_predictions)\n",
    "        #domain_optimizer.step()\n",
    "        candidate_encs = candidate_encs.view(batch_size, num_cands, -1) # batch_size x num_cands x enc_length\n",
    "        query_encs = q_enc.view(batch_size, 1, -1).repeat(1, num_cands, 1) # batch_size x (num_cands) x enc_length\n",
    "        cos = torch.nn.CosineSimilarity(dim=2, eps=1e-08)(candidate_encs, query_encs) # batch_size x (num_cands)\n",
    "        \n",
    "        if is_training:\n",
    "            target = Variable(torch.zeros(batch_size).long(), requires_grad=True)\n",
    "            loss = torch.nn.MultiMarginLoss(margin=margin)(cos, target)\n",
    "            #total_loss = loss - domain_loss\n",
    "            #total_loss.backward()\n",
    "            loss.backward(retain_graph=True)\n",
    "            optimizer.step()\n",
    "            losses.append(loss.cpu().data[0])\n",
    "        else:\n",
    "            # do evaluation stuff\n",
    "            sorted_cos, ind = cos.sort(1, descending=True)\n",
    "            labels = batch[\"labels\"]\n",
    "            for i in range(batch_size): \n",
    "                all_ranked_labels.append(labels[i][ind.data[i]])\n",
    "    if is_training:\n",
    "        avg_loss = np.mean(losses)\n",
    "        return avg_loss\n",
    "    else:\n",
    "        return evaluate(all_ranked_labels)\n",
    "    "
   ]
  },
  {
   "cell_type": "code",
   "execution_count": null,
   "metadata": {},
   "outputs": [],
   "source": [
    "def train_model(train_data, dev_data, test_data, model, batch_size=50, margin=1, num_epochs=50, lr=1.0, weight_decay=0):\n",
    "    print(\"start train_model\")\n",
    "    #optimizer = torch.optim.Adam(model.parameters(), lr=lr, weight_decay=weight_decay)\n",
    "    optimizer = torch.optim.Adam(model.parameters())\n",
    "    result_table = PrettyTable([\"Epoch\", \"train loss\", \"dev MAP\", \"dev MRR\", \"dev P@1\", \"dev P@5\"] +\n",
    "                                    [\"tst MAP\", \"tst MRR\", \"tst P@1\", \"tst P@5\"])\n",
    "    for epoch in range(1, num_epochs + 1):\n",
    "        print(\"epoch\", epoch)\n",
    "        train_loss = run_epoch(train_data, True, model, optimizer, batch_size, margin)\n",
    "        dev_MAP, dev_MRR, dev_P1, dev_P5 = run_epoch(dev_data, False, model, optimizer, batch_size, margin)\n",
    "        test_MAP, test_MRR, test_P1, test_P5 = run_epoch(test_data, False, model, optimizer, batch_size, margin)\n",
    "        result_table.add_row(\n",
    "                            [ epoch ] +\n",
    "                            [ \"%.2f\" % x for x in [train_loss] + [ dev_MAP, dev_MRR, dev_P1, dev_P5 ] +\n",
    "                                        [ test_MAP, test_MRR, test_P1, test_P5 ] ])\n",
    "        print(\"{}\".format(result_table))\n"
   ]
  },
  {
   "cell_type": "code",
   "execution_count": null,
   "metadata": {},
   "outputs": [],
   "source": [
    "TEXT_TOKENIZED_FILE = 'askubuntu/text_tokenized.txt'\n",
    "TRAIN_FILE = 'askubuntu/train_random.txt'\n",
    "DEV_FILE = 'askubuntu/dev.txt'\n",
    "TEST_FILE = 'askubuntu/test.txt'\n",
    "\n",
    "TRUNCATE_LENGTH = 100"
   ]
  },
  {
   "cell_type": "code",
   "execution_count": null,
   "metadata": {},
   "outputs": [],
   "source": [
    "train_dataset = TrainQuestionDataset(TEXT_TOKENIZED_FILE, TRAIN_FILE, truncate=TRUNCATE_LENGTH, test_subset=9)\n",
    "dev_dataset = EvalQuestionDataset(train_dataset.id_to_question, DEV_FILE, truncate=TRUNCATE_LENGTH, test_subset=9)\n",
    "test_dataset = EvalQuestionDataset(train_dataset.id_to_question, TEST_FILE, truncate=TRUNCATE_LENGTH, test_subset=9)"
   ]
  },
  {
   "cell_type": "code",
   "execution_count": null,
   "metadata": {},
   "outputs": [],
   "source": [
    "BATCH_SIZE = 3\n",
    "NUM_EPOCHS = 2\n",
    "MARGIN = 0.5\n",
    "model = LSTM(200, 240, 1, TRUNCATE_LENGTH)"
   ]
  },
  {
   "cell_type": "code",
   "execution_count": null,
   "metadata": {},
   "outputs": [],
   "source": [
    "train_model(train_dataset, dev_dataset, test_dataset, model, num_epochs=NUM_EPOCHS, margin=MARGIN, batch_size=BATCH_SIZE)"
   ]
  },
  {
   "cell_type": "code",
   "execution_count": null,
   "metadata": {},
   "outputs": [],
   "source": []
  }
 ],
 "metadata": {
  "kernelspec": {
   "display_name": "Python 2",
   "language": "python",
   "name": "python2"
  },
  "language_info": {
   "codemirror_mode": {
    "name": "ipython",
    "version": 2
   },
   "file_extension": ".py",
   "mimetype": "text/x-python",
   "name": "python",
   "nbconvert_exporter": "python",
   "pygments_lexer": "ipython2",
   "version": "2.7.14"
  }
 },
 "nbformat": 4,
 "nbformat_minor": 2
}
