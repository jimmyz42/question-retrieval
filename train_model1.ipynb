{
 "cells": [
  {
   "cell_type": "code",
   "execution_count": null,
   "metadata": {
    "collapsed": true
   },
   "outputs": [],
   "source": [
    "import read_input\n",
    "from read_input import TrainQuestionDataset, EvalQuestionDataset\n",
    "from prettytable import PrettyTable\n",
    "\n",
    "from evaluation import Evaluation\n",
    "import torch\n",
    "from torch.autograd import Variable\n",
    "import torch.utils\n",
    "import torch.utils.data\n",
    "from tqdm import tqdm\n",
    "from torch import nn\n",
    "import numpy as np\n",
    "import os"
   ]
  },
  {
   "cell_type": "code",
   "execution_count": null,
   "metadata": {
    "collapsed": true
   },
   "outputs": [],
   "source": [
    "def run_epoch(dataset, is_training, model, optimizer, batch_size, margin, save_path):\n",
    "    data_loader = torch.utils.data.DataLoader(dataset, batch_size=batch_size,\n",
    "                                              shuffle=True, drop_last=True)\n",
    "    losses = []\n",
    "    all_ranked_labels = []\n",
    "    if is_training:\n",
    "        model.train()\n",
    "    else:\n",
    "        model.eval()\n",
    "\n",
    "    for batch in tqdm(data_loader):\n",
    "        q_body = Variable(batch[\"q_body\"], requires_grad=True) # batch_size x truncate_length x 200]\n",
    "        cand_bodies = Variable(batch[\"candidate_bodies\"], requires_grad=True) # batch_size x num_cands x truncate_length x 200\n",
    "        q_title = Variable(batch[\"q_title\"], requires_grad=True)\n",
    "        cand_titles = Variable(batch[\"candidate_titles\"], requires_grad=True)\n",
    "        q_body_mask = Variable(batch[\"q_body_mask\"], requires_grad=True) # batch_size x truncate_length\n",
    "        q_title_mask = Variable(batch[\"q_title_mask\"], requires_grad=True)\n",
    "        cand_body_masks = Variable(batch[\"candidate_body_masks\"], requires_grad=True) # batch_size x num_cands x truncate_length\n",
    "        cand_title_masks = Variable(batch[\"candidate_title_masks\"], requires_grad=True)\n",
    "        num_cands = cand_titles.size()[1]\n",
    "        if is_training:\n",
    "            optimizer.zero_grad()\n",
    "        q_body_enc, q_title_enc = model(q_body, q_body_mask), model(q_title, q_title_mask) # output is batch_size  x enc_length\n",
    "        cand_body_encs = model(cand_bodies.view(batch_size*num_cands, TRUNCATE_LENGTH, 200), # output is (batch_size x num_cands) x enc_length\n",
    "                               cand_body_masks.view(batch_size*num_cands, TRUNCATE_LENGTH)) \n",
    "        cand_title_encs = model(cand_titles.view(batch_size*num_cands, TRUNCATE_LENGTH, 200),\n",
    "                                cand_title_masks.view(batch_size*num_cands, TRUNCATE_LENGTH))\n",
    "        q_enc = q_title_enc + q_body_enc / 2.0\n",
    "        candidate_encs = cand_title_encs + cand_body_encs / 2.0\n",
    "        #domain_predictions = domain_classifier(q_enc, candidate_ends)\n",
    "        #loss(domain_predictions, target_predictions)\n",
    "        #domain_optimizer.step()\n",
    "        candidate_encs = candidate_encs.view(batch_size, num_cands, -1) # batch_size x num_cands x enc_length\n",
    "        query_encs = q_enc.view(batch_size, 1, -1).repeat(1, num_cands, 1) # batch_size x (num_cands) x enc_length\n",
    "        cos = torch.nn.CosineSimilarity(dim=2, eps=1e-08)(candidate_encs, query_encs) # batch_size x (num_cands)\n",
    "        \n",
    "        if is_training:\n",
    "            target = Variable(torch.zeros(batch_size).long(), requires_grad=True)\n",
    "            loss = torch.nn.MultiMarginLoss(margin=margin)(cos, target)\n",
    "            #total_loss = loss - domain_loss\n",
    "            #total_loss.backward()\n",
    "            loss.backward(retain_graph=True)\n",
    "            optimizer.step()\n",
    "            losses.append(loss.cpu().data[0])\n",
    "        else:\n",
    "            # do evaluation stuff\n",
    "            sorted_cos, ind = cos.sort(1, descending=True)\n",
    "            labels = batch[\"labels\"]\n",
    "            for i in range(batch_size): \n",
    "                all_ranked_labels.append(labels[i][ind.data[i]])\n",
    "    if is_training:\n",
    "        # save the model\n",
    "        torch.save(model.state_dict(), save_path)\n",
    "        avg_loss = np.mean(losses)\n",
    "        return avg_loss\n",
    "    else:\n",
    "        return evaluate(all_ranked_labels)\n",
    "    "
   ]
  },
  {
   "cell_type": "code",
   "execution_count": null,
   "metadata": {
    "collapsed": true
   },
   "outputs": [],
   "source": [
    "def train_model(train_data, dev_data, test_data, model, save_dir=None, batch_size=50, margin=1, num_epochs=50, lr=1.0, weight_decay=0):\n",
    "    if (save_dir is not None) and (not os.path.exists(save_dir)):\n",
    "        os.makedirs(save_dir)\n",
    "    print(\"start train_model\")\n",
    "    print(\"****************************************\")\n",
    "    print(\"Batch size: {}, margin: {}, num_epochs: {}, lr: {}\".format(batch_size, margin, num_epochs, lr))\n",
    "    print(\"Model\", model)\n",
    "    print(\"*****************************************\")\n",
    "    #optimizer = torch.optim.Adam(model.parameters(), lr=lr, weight_decay=weight_decay)\n",
    "    optimizer = torch.optim.Adam(model.parameters(), lr=lr)\n",
    "    result_table = PrettyTable([\"Epoch\", \"train loss\", \"dev MAP\", \"dev MRR\", \"dev P@1\", \"dev P@5\"] +\n",
    "                                    [\"tst MAP\", \"tst MRR\", \"tst P@1\", \"tst P@5\"])\n",
    "    for epoch in range(1, num_epochs + 1):\n",
    "        print(\"epoch\", epoch)\n",
    "        if save_dir is None:\n",
    "            save_path = None\n",
    "        else:\n",
    "            save_path = os.path.join(save_dir, 'epoch{}.pkl'.format(epoch))\n",
    "        train_loss = run_epoch(train_data, True, model, optimizer, batch_size, margin, save_path)\n",
    "        dev_MAP, dev_MRR, dev_P1, dev_P5 = run_epoch(dev_data, False, model, optimizer, batch_size, margin, save_path)\n",
    "        test_MAP, test_MRR, test_P1, test_P5 = run_epoch(test_data, False, model, optimizer, batch_size, margin, save_path)\n",
    "        result_table.add_row(\n",
    "                            [ epoch ] +\n",
    "                            [ \"%.2f\" % x for x in [train_loss] + [ dev_MAP, dev_MRR, dev_P1, dev_P5 ] +\n",
    "                                        [ test_MAP, test_MRR, test_P1, test_P5 ] ])\n",
    "        print(\"{}\".format(result_table))\n"
   ]
  },
  {
   "cell_type": "code",
   "execution_count": null,
   "metadata": {
    "collapsed": true
   },
   "outputs": [],
   "source": [
    "TEXT_TOKENIZED_FILE = 'askubuntu/text_tokenized.txt'\n",
    "TRAIN_FILE = 'askubuntu/train_random.txt'\n",
    "DEV_FILE = 'askubuntu/dev.txt'\n",
    "TEST_FILE = 'askubuntu/test.txt'\n",
    "\n",
    "TRUNCATE_LENGTH = 100"
   ]
  },
  {
   "cell_type": "code",
   "execution_count": null,
   "metadata": {
    "collapsed": true
   },
   "outputs": [],
   "source": [
    "train_dataset = TrainQuestionDataset(TEXT_TOKENIZED_FILE, TRAIN_FILE, truncate=TRUNCATE_LENGTH, test_subset=9)\n",
    "dev_dataset = EvalQuestionDataset(train_dataset.id_to_question, DEV_FILE, truncate=TRUNCATE_LENGTH, test_subset=9)\n",
    "test_dataset = EvalQuestionDataset(train_dataset.id_to_question, TEST_FILE, truncate=TRUNCATE_LENGTH, test_subset=9)"
   ]
  },
  {
   "cell_type": "code",
   "execution_count": null,
   "metadata": {
    "collapsed": true
   },
   "outputs": [],
   "source": [
    "DROPOUT_PROBS = [0.0, 0.1, 0.2, 0.3] # Taken from paper\n",
    "DROPOUT = 0.1\n",
    "BIDIRECTIONAL = False\n",
    "\n",
    "model = LSTM(200, 240, 1, TRUNCATE_LENGTH, DROPOUT, BIDIRECTIONAL)\n",
    "# Example of how to load a previously trained model\n",
    "# model.load_state_dict(torch.load('lstm_saved_models/epoch1.pkl'))"
   ]
  },
  {
   "cell_type": "code",
   "execution_count": null,
   "metadata": {
    "collapsed": true
   },
   "outputs": [],
   "source": [
    "BATCH_SIZE = 3\n",
    "NUM_EPOCHS = 2\n",
    "MARGINS = [0.2, 0.4, 0.6] # Some student on piazza said 0.2 worked really well\n",
    "MARGIN = 0.2\n",
    "LRS = [1e-3, 3e-4] # Taken from paper\n",
    "LR = 1e-3\n",
    "\n",
    "SAVE_DIR = 'lstm_saved_models'\n",
    "\n",
    "train_model(train_dataset, dev_dataset, test_dataset, model, SAVE_DIR,\n",
    "            num_epochs=NUM_EPOCHS, \n",
    "            margin=MARGIN, batch_size=BATCH_SIZE, lr=LR)"
   ]
  },
  {
   "cell_type": "code",
   "execution_count": null,
   "metadata": {
    "collapsed": true
   },
   "outputs": [],
   "source": [
    "# TODO run CNN model as well"
   ]
  }
 ],
 "metadata": {
  "kernelspec": {
   "display_name": "Python 2",
   "language": "python",
   "name": "python2"
  },
  "language_info": {
   "codemirror_mode": {
    "name": "ipython",
    "version": 2
   },
   "file_extension": ".py",
   "mimetype": "text/x-python",
   "name": "python",
   "nbconvert_exporter": "python",
   "pygments_lexer": "ipython2",
   "version": "2.7.10"
  }
 },
 "nbformat": 4,
 "nbformat_minor": 2
}
