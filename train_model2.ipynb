{
 "cells": [
  {
   "cell_type": "code",
   "execution_count": null,
   "metadata": {},
   "outputs": [],
   "source": [
    "# Part 2 stuff"
   ]
  },
  {
   "cell_type": "code",
   "execution_count": null,
   "metadata": {},
   "outputs": [],
   "source": [
    "import read_input\n",
    "from read_input import TransferTrainQuestionDataset, AndroidEvalQuestionDataset, read_word_embeddings\n",
    "from prettytable import PrettyTable\n",
    "\n",
    "from evaluation import Evaluation\n",
    "import torch\n",
    "from torch.autograd import Variable\n",
    "import torch.utils\n",
    "import torch.utils.data\n",
    "from tqdm import tqdm\n",
    "from torch import nn\n",
    "import numpy as np\n",
    "import os\n",
    "import sys\n",
    "from meter_auc import AUCMeter\n",
    "\n",
    "from models import LSTM, CNN, evaluate, DomainClassifier"
   ]
  },
  {
   "cell_type": "code",
   "execution_count": null,
   "metadata": {},
   "outputs": [],
   "source": [
    "def masked_select_rows(matrix, mask, mask_value=1):\n",
    "    # matrix is 2d tensor [n x m]\n",
    "    # mask is 1d tensor\n",
    "    # returns matrix [new_n x m], with all the rows selected where mask=mask_value\n",
    "    return torch.from_numpy(matrix.numpy()[(mask.numpy()==mask_value),:])"
   ]
  },
  {
   "cell_type": "code",
   "execution_count": null,
   "metadata": {},
   "outputs": [],
   "source": [
    "def run_epoch(dataset, is_training, model, optimizer, batch_size, margin, save_path):\n",
    "    data_loader = torch.utils.data.DataLoader(dataset, batch_size=batch_size,\n",
    "                                              shuffle=True, drop_last=True)\n",
    "    losses = []\n",
    "    all_ranked_labels = []\n",
    "    if is_training:\n",
    "        model.train()\n",
    "    else:\n",
    "        model.eval()\n",
    "    requires_grad = False\n",
    "    for batch in tqdm(data_loader):\n",
    "        # If is_training = True: \n",
    "        #    Batch is mixed android and ubuntu examples\n",
    "        #    All examples have a binary isUbuntu label, and the usual q_body, q_title, q_body_mask, q_title_mask\n",
    "        #    For Android examples, the candidate_bodies, candidate_titles, candidate_body_masks, candidate_title_masks\n",
    "        #      are all just tensors of all 0s, and SHOULD NOT BE USED!!! \n",
    "        \n",
    "        # If is_training = False:\n",
    "        #    - Batch is only ubuntu eval examples\n",
    "        #    - Examples have q_body, q_title, q_body_mask, q_title_mask, candidate_bodies, \n",
    "        #      candidate_titles, candidate_body_masks, candidate_title_masks, \n",
    "        #             AND label\n",
    "        \n",
    "        # example of how to select the examples of the batch which are all ubuntu, etc. \n",
    "        # Note: for training only! \n",
    "        ubuntu_q_body = masked_select_rows(batch[\"q_body\"], batch[\"isUbuntu\"])\n",
    "        android_q_body = masked_select_rows(batch[\"q_body\"], batch[\"isUbuntu\"], mask_value=0)\n",
    "        \n",
    "        # ....\n",
    "        \n",
    "        # cos = ....\n",
    "        \n",
    "        if is_training:\n",
    "            pass\n",
    "        else:\n",
    "            labels = batch[\"labels\"]\n",
    "            meter.add(cos.view(-1, 1), labels.view(-1, 1))\n",
    "    if is_training:\n",
    "        pass\n",
    "    else:\n",
    "        return meter.value(), meter.value(0.05) #return auc and auc(.05)\n"
   ]
  },
  {
   "cell_type": "code",
   "execution_count": null,
   "metadata": {},
   "outputs": [],
   "source": [
    "WORD_EMBEDDINGS_FILE = 'vectors_stackexchange.txt'\n",
    "UBUNTU_TEXT_TOKENIZED_FILE = 'askubuntu/text_tokenized.txt'\n",
    "UBUNTU_TRAIN_FILE = 'askubuntu/train_random.txt'\n",
    "UBUNTU_DEV_FILE = 'askubuntu/dev.txt'\n",
    "UBUNTU_TEST_FILE = 'askubuntu/test.txt'\n",
    "\n",
    "ANDROID_DEV_NEG_FILE = 'Android/dev.neg.txt'\n",
    "ANDROID_DEV_POS_FILE = 'Android/dev.pos.txt'\n",
    "ANDROID_TEST_NEG_FILE = 'Android/test.neg.txt'\n",
    "ANDROID_TEST_POS_FILE = 'Android/test.pos.txt'\n",
    "ANDROID_TEXT_TOKENIZED_FILE = 'Android/corpus.tsv'\n",
    "\n",
    "TRUNCATE_LENGTH = 100\n",
    "word_to_idx, embeddings, padding_idx = read_word_embeddings(WORD_EMBEDDINGS_FILE)"
   ]
  },
  {
   "cell_type": "code",
   "execution_count": null,
   "metadata": {},
   "outputs": [],
   "source": [
    "# For doing domain adaptation (I.E. Part2b)\n",
    "transfer_train_dataset = TransferTrainQuestionDataset(ANDROID_TEXT_TOKENIZED_FILE, UBUNTU_TEXT_TOKENIZED_FILE, \n",
    "                                                      UBUNTU_TRAIN_FILE, word_to_idx, padding_idx, truncate=100, test_subset=7000)\n",
    "android_dev_dataset = AndroidEvalQuestionDataset(transfer_train_dataset.android_dataset.id_to_question, ANDROID_DEV_POS_FILE, ANDROID_DEV_NEG_FILE, \n",
    "                                                 word_to_idx, padding_idx, truncate=100, test_subset=None)\n",
    "android_test_dataset = AndroidEvalQuestionDataset(android_dev_dataset.id_to_question, ANDROID_DEV_POS_FILE, ANDROID_DEV_NEG_FILE, \n",
    "                                                 word_to_idx, padding_idx, truncate=100, test_subset=None)"
   ]
  },
  {
   "cell_type": "code",
   "execution_count": null,
   "metadata": {},
   "outputs": [],
   "source": []
  }
 ],
 "metadata": {
  "kernelspec": {
   "display_name": "Python 2",
   "language": "python",
   "name": "python2"
  },
  "language_info": {
   "codemirror_mode": {
    "name": "ipython",
    "version": 2
   },
   "file_extension": ".py",
   "mimetype": "text/x-python",
   "name": "python",
   "nbconvert_exporter": "python",
   "pygments_lexer": "ipython2",
   "version": "2.7.14"
  }
 },
 "nbformat": 4,
 "nbformat_minor": 2
}
